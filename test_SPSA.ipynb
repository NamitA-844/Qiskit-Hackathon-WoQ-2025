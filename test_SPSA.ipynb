{
 "cells": [
  {
   "cell_type": "markdown",
   "id": "6ff964ee",
   "metadata": {},
   "source": [
    "- SPSA optimizer, optimization loop(to learn the DD parameters)\n",
    "- cost fuction (1-fidelity function) with parameters\n",
    "- Integrate the optimizer with transpiler pass(cooperate with others)\n",
    "- baseline comparisons(naive vs. LDD)\n",
    "\n"
   ]
  },
  {
   "cell_type": "code",
   "execution_count": 2,
   "id": "6739c511",
   "metadata": {},
   "outputs": [],
   "source": [
    "import numpy as np\n",
    "import qiskit\n",
    "from qiskit_algorithms.optimizers import SPSA\n",
    "from qiskit.circuit.library import PauliTwoDesign\n",
    "from qiskit.primitives import Estimator\n",
    "from qiskit.quantum_info import SparsePauliOp\n"
   ]
  },
  {
   "cell_type": "code",
   "execution_count": 1,
   "id": "d6068cb7",
   "metadata": {},
   "outputs": [
    {
     "name": "stdout",
     "output_type": "stream",
     "text": [
      "Name: qiskit-algorithms\n",
      "Version: 0.3.0\n",
      "Summary: Qiskit Algorithms: A library of quantum computing algorithms\n",
      "Home-page: https://github.com/qiskit-community/qiskit-algorithms\n",
      "Author: Qiskit Algorithms Development Team\n",
      "Author-email: qiskit@us.ibm.com\n",
      "License: Apache-2.0\n",
      "Location: c:\\Users\\yaxua\\OneDrive\\桌面\\hackathon\\.venv\\Lib\\site-packages\n",
      "Requires: numpy, qiskit, scipy\n",
      "Required-by: \n",
      "Note: you may need to restart the kernel to use updated packages.\n",
      "Name: qiskit\n",
      "Version: 1.4.3\n",
      "Summary: An open-source SDK for working with quantum computers at the level of extended quantum circuits, operators, and primitives.\n",
      "Home-page: https://www.ibm.com/quantum/qiskit\n",
      "Author: \n",
      "Author-email: Qiskit Development Team <qiskit@us.ibm.com>\n",
      "License: Apache 2.0\n",
      "Location: c:\\Users\\yaxua\\OneDrive\\桌面\\hackathon\\.venv\\Lib\\site-packages\n",
      "Requires: dill, numpy, python-dateutil, rustworkx, scipy, stevedore, symengine, sympy, typing-extensions\n",
      "Required-by: qiskit-algorithms, qiskit-ibm-runtime\n",
      "Note: you may need to restart the kernel to use updated packages.\n"
     ]
    }
   ],
   "source": [
    "%pip show qiskit-algorithms\n",
    "%pip show qiskit"
   ]
  },
  {
   "cell_type": "code",
   "execution_count": 3,
   "id": "35c29a56",
   "metadata": {},
   "outputs": [
    {
     "name": "stderr",
     "output_type": "stream",
     "text": [
      "C:\\Users\\yaxua\\AppData\\Local\\Temp\\ipykernel_10644\\293113102.py:4: DeprecationWarning: The class ``qiskit.primitives.estimator.Estimator`` is deprecated as of qiskit 1.2. It will be removed no earlier than 3 months after the release date. All implementations of the `BaseEstimatorV1` interface have been deprecated in favor of their V2 counterparts. The V2 alternative for the `Estimator` class is `StatevectorEstimator`.\n",
      "  estimator = Estimator()\n"
     ]
    },
    {
     "data": {
      "text/plain": [
       "array([-1.77422394,  2.74465009, -2.21485825,  3.42563519])"
      ]
     },
     "execution_count": 3,
     "metadata": {},
     "output_type": "execute_result"
    }
   ],
   "source": [
    "\n",
    "LDD_circuit = PauliTwoDesign(2, reps=1, seed=2) #the circuit with trainable parameters\n",
    "cost_function = SparsePauliOp(\"ZZ\") #cost function to minimize as much as possible\n",
    "initial_point = np.random.random(LDD_circuit.num_parameters)\n",
    "estimator = Estimator()\n",
    "\n",
    "def loss(x):\n",
    "    job = estimator.run([LDD_circuit], [cost_function], [x])\n",
    "    return job.result().values[0]\n",
    "\n",
    "spsa = SPSA(maxiter=300)\n",
    "result = spsa.minimize(loss, x0=initial_point)\n",
    "result.x"
   ]
  },
  {
   "cell_type": "code",
   "execution_count": 5,
   "id": "168f1bcd",
   "metadata": {},
   "outputs": [
    {
     "name": "stdout",
     "output_type": "stream",
     "text": [
      "before training: loss=0.5295914479196043\n",
      "after training: loss=-0.8660203577504675\n"
     ]
    }
   ],
   "source": [
    "print(f\"before training: loss={estimator.run([LDD_circuit], [cost_function], [initial_point]).result().values[0]}\")\n",
    "print(f\"after training: loss={estimator.run([LDD_circuit], [cost_function], [result.x]).result().values[0]}\")\n"
   ]
  },
  {
   "cell_type": "code",
   "execution_count": null,
   "id": "d65dc1e1",
   "metadata": {},
   "outputs": [],
   "source": [
    "# maybe later\n",
    "class TerminationChecker:\n",
    "\n",
    "    def __init__(self, J : int):\n",
    "        self.J = J #cost function\n",
    "        self.values = []\n",
    "\n",
    "    def __call__(self, nfev, parameters, value, stepsize, accepted) -> bool:\n",
    "        self.values.append(value)\n",
    "\n",
    "        if len(self.values) > self.J:\n",
    "            last_values = self.values[-self.J:]\n",
    "            pp = np.polyfit(range(self.J), last_values, 1)\n",
    "            slope = pp[0] / self.J\n",
    "\n",
    "            if slope > 0:\n",
    "                return True\n",
    "        return False"
   ]
  },
  {
   "cell_type": "code",
   "execution_count": null,
   "id": "4ed853f6",
   "metadata": {},
   "outputs": [],
   "source": []
  }
 ],
 "metadata": {
  "kernelspec": {
   "display_name": ".venv",
   "language": "python",
   "name": "python3"
  },
  "language_info": {
   "codemirror_mode": {
    "name": "ipython",
    "version": 3
   },
   "file_extension": ".py",
   "mimetype": "text/x-python",
   "name": "python",
   "nbconvert_exporter": "python",
   "pygments_lexer": "ipython3",
   "version": "3.11.9"
  }
 },
 "nbformat": 4,
 "nbformat_minor": 5
}
