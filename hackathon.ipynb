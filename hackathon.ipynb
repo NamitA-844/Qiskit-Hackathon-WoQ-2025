{
 "cells": [
  {
   "cell_type": "markdown",
   "id": "262d0a64",
   "metadata": {},
   "source": [
    "## Dynamic Decoupling\n",
    "Dynamic Decoupling could be made very specific for the hardware, but it assumes we know the interactions of the circuit with the environment. We can optimize the circuit by learnign the parameters from the circuit, calcuting the cost function.\n",
    "\n",
    "Dynamical decoupling works by adding pulse sequences (known as dynamical decoupling sequences) to idle qubits to flip them around the Bloch sphere, which cancels the effect of noise channels, thereby suppressing decoherence. "
   ]
  },
  {
   "cell_type": "markdown",
   "id": "f39b0001",
   "metadata": {},
   "source": [
    "### Step 1\n",
    "Build the circuit, lets do the Bell basis\n"
   ]
  },
  {
   "cell_type": "code",
   "execution_count": 1,
   "id": "9ba00601",
   "metadata": {},
   "outputs": [
    {
     "name": "stdout",
     "output_type": "stream",
     "text": [
      "1.4.2\n"
     ]
    }
   ],
   "source": [
    "# Import necessary modules for this notebook\n",
    "import qiskit\n",
    "import time\n",
    "import math\n",
    "import numpy as np\n",
    "from math import *\n",
    "\n",
    "#design\n",
    "from qiskit import *\n",
    "from qiskit.quantum_info import *\n",
    "from qiskit.visualization import *\n",
    "from qiskit.circuit.library import *\n",
    "\n",
    "from qiskit_aer import AerSimulator\n",
    "from qiskit.quantum_info import SparsePauliOp\n",
    "from qiskit.transpiler import *\n",
    "from qiskit.transpiler.passes import *\n",
    "from qiskit.transpiler.preset_passmanagers import generate_preset_pass_manager\n",
    "from qiskit_ibm_runtime import EstimatorV2 as Estimator\n",
    "from qiskit_ibm_runtime import SamplerV2 as Sampler\n",
    "from qiskit_ibm_runtime import QiskitRuntimeService\n",
    "from qiskit.visualization import *\n",
    "print(qiskit.__version__)"
   ]
  },
  {
   "cell_type": "code",
   "execution_count": 2,
   "id": "876c4af7",
   "metadata": {},
   "outputs": [
    {
     "data": {
      "image/png": "[encoded data removed]",
      "text/plain": [
       "<Figure size 580.387x367.889 with 1 Axes>"
      ]
     },
     "metadata": {},
     "output_type": "display_data"
    }
   ],
   "source": [
    "m = 2\n",
    "n = 0\n",
    "control = QuantumRegister(m, \"X\")\n",
    "target = QuantumRegister(n, \"Y\")\n",
    "output = ClassicalRegister(m, \"Z\")\n",
    "\n",
    "qc = QuantumCircuit(control, target, output)\n",
    "qc.h(0)\n",
    "qc.cx(0,1)\n",
    "#qc.cx(0,2)\n",
    "#qc.cx(0, 3)\n",
    "qc.measure_all()\n",
    "display(qc.draw(output = \"mpl\"))\n"
   ]
  },
  {
   "cell_type": "markdown",
   "id": "8748b474",
   "metadata": {},
   "source": [
    "### Step 2 \n",
    "Transpile the circuit,\n",
    "1. Use build in Generate pass manager + Qiskit's DD \n",
    "2. Build a custom pass using the Learning Dynamic Decoupling "
   ]
  },
  {
   "cell_type": "code",
   "execution_count": null,
   "id": "d35536d0",
   "metadata": {},
   "outputs": [],
   "source": [
    "class dynamic_decoupling(TransformationPass)"
   ]
  },
  {
   "cell_type": "code",
   "execution_count": 3,
   "id": "a58cf061",
   "metadata": {},
   "outputs": [],
   "source": [
    "basis_gates = []\n",
    "transpile = PassManager(\n",
    "    ConsolidateBlocks(basis_gates= basis_gates),\n",
    "    UnitarySynthesis(basis_gates)\n",
    ")"
   ]
  },
  {
   "cell_type": "code",
   "execution_count": 4,
   "id": "374aeae3",
   "metadata": {},
   "outputs": [
    {
     "ename": "NameError",
     "evalue": "name 'translate' is not defined",
     "output_type": "error",
     "traceback": [
      "\u001b[0;31m---------------------------------------------------------------------------\u001b[0m",
      "\u001b[0;31mNameError\u001b[0m                                 Traceback (most recent call last)",
      "Cell \u001b[0;32mIn[4], line 6\u001b[0m\n\u001b[1;32m      1\u001b[0m basis_gates \u001b[38;5;241m=\u001b[39m [\u001b[38;5;124m\"\u001b[39m\u001b[38;5;124mrx\u001b[39m\u001b[38;5;124m\"\u001b[39m, \u001b[38;5;124m\"\u001b[39m\u001b[38;5;124mry\u001b[39m\u001b[38;5;124m\"\u001b[39m, \u001b[38;5;124m\"\u001b[39m\u001b[38;5;124mrxx\u001b[39m\u001b[38;5;124m\"\u001b[39m]\n\u001b[1;32m      2\u001b[0m init \u001b[38;5;241m=\u001b[39m PassManager(\n\u001b[1;32m      3\u001b[0m     [UnitarySynthesis(basis_gates, min_qubits\u001b[38;5;241m=\u001b[39m\u001b[38;5;241m3\u001b[39m), Unroll3qOrMore()]\n\u001b[1;32m      4\u001b[0m )\n\u001b[1;32m      5\u001b[0m staged_pm \u001b[38;5;241m=\u001b[39m StagedPassManager(\n\u001b[0;32m----> 6\u001b[0m     stages\u001b[38;5;241m=\u001b[39m[\u001b[38;5;124m\"\u001b[39m\u001b[38;5;124minit\u001b[39m\u001b[38;5;124m\"\u001b[39m, \u001b[38;5;124m\"\u001b[39m\u001b[38;5;124mtranslation\u001b[39m\u001b[38;5;124m\"\u001b[39m], init\u001b[38;5;241m=\u001b[39minit, translation\u001b[38;5;241m=\u001b[39m\u001b[43mtranslate\u001b[49m\n\u001b[1;32m      7\u001b[0m )\n",
      "\u001b[0;31mNameError\u001b[0m: name 'translate' is not defined"
     ]
    }
   ],
   "source": [
    "basis_gates = [\"rx\", \"ry\", \"rxx\"]\n",
    "init = PassManager(\n",
    "    [UnitarySynthesis(basis_gates, min_qubits=3), Unroll3qOrMore()]\n",
    ")\n",
    "staged_pm = StagedPassManager(\n",
    "    stages=[\"init\", \"translation\"], init=init, translation=translate\n",
    ")"
   ]
  },
  {
   "cell_type": "code",
   "execution_count": 5,
   "id": "8cd0c388",
   "metadata": {},
   "outputs": [
    {
     "data": {
      "image/png": "[encoded data removed]",
      "text/plain": [
       "<Figure size 580.387x367.889 with 1 Axes>"
      ]
     },
     "execution_count": 5,
     "metadata": {},
     "output_type": "execute_result"
    }
   ],
   "source": [
    "transpiled_circuit = transpile.run(qc)\n",
    "transpiled_circuit.draw(output= \"mpl\")"
   ]
  },
  {
   "cell_type": "code",
   "execution_count": null,
   "id": "9735e59c",
   "metadata": {},
   "outputs": [],
   "source": [
    "def single_rotations(theta, phi, lambda, N):\n",
    "    return UGate(theta = theta, phi = phi, lam= = lambda)"
   ]
  },
  {
   "cell_type": "markdown",
   "id": "ad12d860",
   "metadata": {},
   "source": [
    "### Step 3 \n",
    "Execute the circuit, \n",
    "1. try Qiskit's Dynamic Decoupling sequences in this step : PadDynamicDecoupling. dynamical decoupling pulses need to be added after the circuit has been transpiled and scheduled.\n",
    "2. Using our pass manager, execute using Qiskit's primitives "
   ]
  },
  {
   "cell_type": "code",
   "execution_count": null,
   "id": "f000b28f",
   "metadata": {},
   "outputs": [],
   "source": [
    "dd_pm = PassManager(\n",
    "    [\n",
    "        ALAPScheduleAnalysis(target=target),\n",
    "        PadDynamicalDecoupling(target=target, dd_sequence=dd_sequence),\n",
    "    ]\n",
    ")"
   ]
  },
  {
   "cell_type": "markdown",
   "id": "88ad5022",
   "metadata": {},
   "source": [
    "### Step 4 \n",
    "Post processing the circuit, compare with CPMG and XYXY"
   ]
  },
  {
   "cell_type": "code",
   "execution_count": null,
   "id": "17b0a9ba",
   "metadata": {},
   "outputs": [],
   "source": []
  }
 ],
 "metadata": {
  "kernelspec": {
   "display_name": "rye-vsc",
   "language": "python",
   "name": "python3"
  },
  "language_info": {
   "codemirror_mode": {
    "name": "ipython",
    "version": 3
   },
   "file_extension": ".py",
   "mimetype": "text/x-python",
   "name": "python",
   "nbconvert_exporter": "python",
   "pygments_lexer": "ipython3",
   "version": "3.12.9"
  }
 },
 "nbformat": 4,
 "nbformat_minor": 5
}
